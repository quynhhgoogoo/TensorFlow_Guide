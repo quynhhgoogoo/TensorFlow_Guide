{
 "cells": [
  {
   "cell_type": "markdown",
   "metadata": {},
   "source": [
    "## Text Classification\n",
    "### Definition\n",
    "- algorithm that process text data at scale\n",
    "<br>Eg : determine spam/not spam email, mark appropriate/inappropriate comments on forum\n",
    "- categorization based on keywords in text\n",
    "\n",
    "<b>Sentiment analysis:</b> a common type of text classification which identifies text content (the type of opinion it expresses)\n",
    "<br>Eg: analyzing Twitter posts to determine if people like a  new movie or not\n",
    "\n",
    "### Workflow\n",
    "- <b>Step 1:</b> Gather data\n",
    "- <b>Step 2:</b> Explore data -> Choose a model\n",
    "- <b>Step 3:</b> Prepare data\n",
    "- <b>Step 4:</b> Build, train and evaluate model\n",
    "- <b>Step 5:</b> Tune Hyperparameters\n",
    "- <b>Step 6:</b> Deploy model\n",
    "\n",
    "\n",
    "#### Step 1: Gathering data\n",
    "- important step in supervised machine learning problems\n",
    "1. public API: understand the limitations of that API before using them (Eg: some APIs set a limit on rate at which you can make query)\n",
    "2. make sure number of samples for every class/topic is not overly imbalanced\n",
    "3. samples cover space of possible inputs, not only the common cases\n",
    "\n",
    "#### Step 2: Explore data\n",
    "Understanding the characteristics of data will enable you to build a better model: obtain high accuracy, less data for training and fewer computational resources\n",
    "\n",
    "<b> Load the dataset </b>\n",
    "- seed: stands for random seed, to make sure that you can reproduce same results when using random generators (same seeds would result in same random numbers)"
   ]
  },
  {
   "cell_type": "code",
   "execution_count": 2,
   "metadata": {},
   "outputs": [],
   "source": [
    "''' Load the IMDb movie reviews sentiment analysis dataset\n",
    "# Input\n",
    "    data_path: string, path to data directory\n",
    "    seed: int, seed for randomizer\n",
    "    \n",
    "# Output\n",
    "    A tuple of training and validation data\n",
    "    Number of training samples: 25000\n",
    "    Number of test samples: 25000\n",
    "    Number of categories: 2 (0-negative, 1-positive)\n",
    "'''\n",
    "\n",
    "def load_imdb_sentiment_analysis_dataset(data_path, seed=123):\n",
    "    #data_path =\n",
    "    imdb_data_path = os.path.join(data_path, 'aclImdb')\n",
    "    \n",
    "    #Load the training data\n",
    "    train_texts = []\n",
    "    train_labels = []\n",
    "    \n",
    "    for category in ['pos', 'neg']:\n",
    "        train_path = os.path.join(imdb_data_path, 'train', category)\n",
    "        \n",
    "        for fname in sorted(os.listdir(train_path)):\n",
    "            if fname.endswith('.txt'):\n",
    "                with open(os.path.join(train_path, fname)) as f:\n",
    "                    train_texts.append(f.read())\n",
    "                train_labels.append(0 if category == 'neg' else 1)\n",
    "            "
   ]
  },
  {
   "cell_type": "code",
   "execution_count": null,
   "metadata": {},
   "outputs": [],
   "source": []
  }
 ],
 "metadata": {
  "kernelspec": {
   "display_name": "Python 3",
   "language": "python",
   "name": "python3"
  },
  "language_info": {
   "codemirror_mode": {
    "name": "ipython",
    "version": 3
   },
   "file_extension": ".py",
   "mimetype": "text/x-python",
   "name": "python",
   "nbconvert_exporter": "python",
   "pygments_lexer": "ipython3",
   "version": "3.7.6"
  }
 },
 "nbformat": 4,
 "nbformat_minor": 4
}
